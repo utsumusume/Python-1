{
  "nbformat": 4,
  "nbformat_minor": 0,
  "metadata": {
    "colab": {
      "provenance": [],
      "authorship_tag": "ABX9TyOPAf9Lv+rXNSWOFAxLJ5mq",
      "include_colab_link": true
    },
    "kernelspec": {
      "name": "python3",
      "display_name": "Python 3"
    },
    "language_info": {
      "name": "python"
    }
  },
  "cells": [
    {
      "cell_type": "markdown",
      "metadata": {
        "id": "view-in-github",
        "colab_type": "text"
      },
      "source": [
        "<a href=\"https://colab.research.google.com/github/utsumusume/Python-1/blob/Python-Learning-1/%E6%96%87%E5%AD%97%E5%88%97.ipynb\" target=\"_parent\"><img src=\"https://colab.research.google.com/assets/colab-badge.svg\" alt=\"Open In Colab\"/></a>"
      ]
    },
    {
      "cell_type": "code",
      "execution_count": null,
      "metadata": {
        "colab": {
          "base_uri": "https://localhost:8080/",
          "height": 36
        },
        "id": "6IJukTZIC_SJ",
        "outputId": "4bf9a30f-f4f2-4ef1-ad0f-b03179d3db61"
      },
      "outputs": [
        {
          "output_type": "execute_result",
          "data": {
            "text/plain": [
              "'Eek!'"
            ],
            "application/vnd.google.colaboratory.intrinsic+json": {
              "type": "string"
            }
          },
          "metadata": {},
          "execution_count": 8
        }
      ],
      "source": [
        "\"Nay, said the naysayser. 'Neigh?' said the horse.\"\n",
        "'The rare double quote in captivity: \".'\n",
        "\n",
        "'A \"two by four\" is actually 1 1/2\" * 3 1/2\".'\n",
        "\n",
        "\"There's the an that shot my paw' cried the limping hound.\"\n",
        "\n",
        "'''Boom!'''\n",
        "\"\"\"Eek!\"\"\""
      ]
    },
    {
      "cell_type": "code",
      "source": [
        "poem = \"\"\"There was a Young Lady of Norway,\n",
        "Who casually sat in a doorway;\n",
        "When the door squeezed her flat,\n",
        "She exclamed, \"What of that?\"\n",
        "This courageous Young Lady of Norway.\"\"\""
      ],
      "metadata": {
        "id": "xysHIvdNlQAV"
      },
      "execution_count": 1,
      "outputs": []
    }
  ]
}