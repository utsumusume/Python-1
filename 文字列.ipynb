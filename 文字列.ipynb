{
  "nbformat": 4,
  "nbformat_minor": 0,
  "metadata": {
    "colab": {
      "provenance": [],
      "authorship_tag": "ABX9TyPFZJuMkZCX7t3MzaxuPnPn",
      "include_colab_link": true
    },
    "kernelspec": {
      "name": "python3",
      "display_name": "Python 3"
    },
    "language_info": {
      "name": "python"
    }
  },
  "cells": [
    {
      "cell_type": "markdown",
      "metadata": {
        "id": "view-in-github",
        "colab_type": "text"
      },
      "source": [
        "<a href=\"https://colab.research.google.com/github/utsumusume/Python-1/blob/Python-Learning-1/%E6%96%87%E5%AD%97%E5%88%97.ipynb\" target=\"_parent\"><img src=\"https://colab.research.google.com/assets/colab-badge.svg\" alt=\"Open In Colab\"/></a>"
      ]
    },
    {
      "cell_type": "code",
      "execution_count": null,
      "metadata": {
        "colab": {
          "base_uri": "https://localhost:8080/",
          "height": 36
        },
        "id": "6IJukTZIC_SJ",
        "outputId": "4bf9a30f-f4f2-4ef1-ad0f-b03179d3db61"
      },
      "outputs": [
        {
          "output_type": "execute_result",
          "data": {
            "text/plain": [
              "'Eek!'"
            ],
            "application/vnd.google.colaboratory.intrinsic+json": {
              "type": "string"
            }
          },
          "metadata": {},
          "execution_count": 8
        }
      ],
      "source": [
        "\"Nay, said the naysayser. 'Neigh?' said the horse.\"\n",
        "'The rare double quote in captivity: \".'\n",
        "\n",
        "'A \"two by four\" is actually 1 1/2\" * 3 1/2\".'\n",
        "\n",
        "\"There's the an that shot my paw' cried the limping hound.\"\n",
        "\n",
        "'''Boom!'''\n",
        "\"\"\"Eek!\"\"\""
      ]
    },
    {
      "cell_type": "code",
      "source": [
        "poem = \"\"\"There was a Young Lady of Norway,\n",
        "Who casually sat in a doorway;\n",
        "When the door squeezed her flat,\n",
        "She exclamed, \"What of that?\"\n",
        "This courageous Young Lady of Norway.\"\"\""
      ],
      "metadata": {
        "id": "xysHIvdNlQAV"
      },
      "execution_count": null,
      "outputs": []
    },
    {
      "cell_type": "code",
      "source": [
        "poem = 'There was a young lady of Norway,\n",
        "#文字列リテラルを走査中に行末に到達エラー"
      ],
      "metadata": {
        "colab": {
          "base_uri": "https://localhost:8080/",
          "height": 110
        },
        "id": "pBV-0j3s_2Uv",
        "outputId": "4fda471a-ff74-416c-e2ca-c4457192fb0a"
      },
      "execution_count": null,
      "outputs": [
        {
          "output_type": "error",
          "ename": "SyntaxError",
          "evalue": "unterminated string literal (detected at line 1) (<ipython-input-1-1868ffe5bb04>, line 1)",
          "traceback": [
            "\u001b[0;36m  File \u001b[0;32m\"<ipython-input-1-1868ffe5bb04>\"\u001b[0;36m, line \u001b[0;32m1\u001b[0m\n\u001b[0;31m    poem = 'There was a young lady of Norway, #文字列リテラルを走査中に行末に到達エラー\u001b[0m\n\u001b[0m           ^\u001b[0m\n\u001b[0;31mSyntaxError\u001b[0m\u001b[0;31m:\u001b[0m unterminated string literal (detected at line 1)\n"
          ]
        }
      ]
    },
    {
      "cell_type": "code",
      "source": [
        "poem2 = \"\"\"I do not like thee, Doctor Fell.\n",
        "    The reason why, I canot tell.\n",
        "    But this I know, and know full well:\n",
        "    I do not like thee, Doctor Fell.\n",
        "\"\"\"\n",
        "\n",
        "print(poem2)\n",
        "\n",
        "poem2"
      ],
      "metadata": {
        "id": "4HPJQEylAQBE",
        "colab": {
          "base_uri": "https://localhost:8080/",
          "height": 128
        },
        "outputId": "e0fc9ce6-2da6-4c73-f22e-4d396c912aec"
      },
      "execution_count": 3,
      "outputs": [
        {
          "output_type": "stream",
          "name": "stdout",
          "text": [
            "I do not like thee, Doctor Fell.\n",
            "    The reason why, I canot tell.\n",
            "    But this I know, and know full well:\n",
            "    I do not like thee, Doctor Fell.\n",
            "\n"
          ]
        },
        {
          "output_type": "execute_result",
          "data": {
            "text/plain": [
              "'I do not like thee, Doctor Fell.\\n    The reason why, I canot tell.\\n    But this I know, and know full well:\\n    I do not like thee, Doctor Fell.\\n'"
            ],
            "application/vnd.google.colaboratory.intrinsic+json": {
              "type": "string"
            }
          },
          "metadata": {},
          "execution_count": 3
        }
      ]
    },
    {
      "cell_type": "code",
      "source": [
        "print('Give', \"us\", \"\"\"some\"\"\", \"\"\"space\"\"\")"
      ],
      "metadata": {
        "colab": {
          "base_uri": "https://localhost:8080/"
        },
        "id": "680bM2TUkDPN",
        "outputId": "be0281fe-c21f-4b8c-c082-3863618f4920"
      },
      "execution_count": 4,
      "outputs": [
        {
          "output_type": "stream",
          "name": "stdout",
          "text": [
            "Give us some space\n"
          ]
        }
      ]
    },
    {
      "cell_type": "code",
      "source": [
        "\"\"\"'Guten Morgen, mein Herr!'\n",
        "...said mad king Ludwig to his wig.\"\"\""
      ],
      "metadata": {
        "colab": {
          "base_uri": "https://localhost:8080/",
          "height": 36
        },
        "id": "alSLsQWckjRq",
        "outputId": "0a223914-bc7c-492f-dfe9-b782d393602c"
      },
      "execution_count": 5,
      "outputs": [
        {
          "output_type": "execute_result",
          "data": {
            "text/plain": [
              "\"'Guten Morgen, mein Herr!'\\n...said mad king Ludwig to his wig.\""
            ],
            "application/vnd.google.colaboratory.intrinsic+json": {
              "type": "string"
            }
          },
          "metadata": {},
          "execution_count": 5
        }
      ]
    },
    {
      "cell_type": "code",
      "source": [
        "str(98.6)\n",
        "str(1.0e4)\n",
        "str(True)"
      ],
      "metadata": {
        "colab": {
          "base_uri": "https://localhost:8080/",
          "height": 36
        },
        "id": "5nw9gP8tk76X",
        "outputId": "96bebcb2-a26d-431b-b505-16088cfbca69"
      },
      "execution_count": 8,
      "outputs": [
        {
          "output_type": "execute_result",
          "data": {
            "text/plain": [
              "'True'"
            ],
            "application/vnd.google.colaboratory.intrinsic+json": {
              "type": "string"
            }
          },
          "metadata": {},
          "execution_count": 8
        }
      ]
    },
    {
      "cell_type": "code",
      "source": [
        "palindrome = 'A man, \\nA plan, \\nA canal: \\nPanama.'\n",
        "print(palindrome)"
      ],
      "metadata": {
        "colab": {
          "base_uri": "https://localhost:8080/"
        },
        "id": "vzo64A25lznb",
        "outputId": "4a7c35ca-9ec5-4c7a-a128-bab2cc7a4c68"
      },
      "execution_count": 9,
      "outputs": [
        {
          "output_type": "stream",
          "name": "stdout",
          "text": [
            "A man, \n",
            "A plan, \n",
            "A canal: \n",
            "Panama.\n"
          ]
        }
      ]
    },
    {
      "cell_type": "code",
      "source": [
        "print('\\tabc')\n",
        "print('a\\tbc')\n",
        "print('ab\\tc')\n",
        "print('abc\\t')"
      ],
      "metadata": {
        "colab": {
          "base_uri": "https://localhost:8080/"
        },
        "id": "u7oKYKjDmJwa",
        "outputId": "903549ce-eb37-4bd2-b214-2a5e547b721a"
      },
      "execution_count": 13,
      "outputs": [
        {
          "output_type": "stream",
          "name": "stdout",
          "text": [
            "\tabc\n",
            "a\tbc\n",
            "ab\tc\n",
            "abc\t\n"
          ]
        }
      ]
    },
    {
      "cell_type": "code",
      "source": [
        "testimony = \"\\\"I did nothing!\\\"he said. \\\"Or that other thing.\\\"\"\n",
        "testimony\n",
        "\n",
        "print(testimony)"
      ],
      "metadata": {
        "colab": {
          "base_uri": "https://localhost:8080/"
        },
        "id": "OGM8DEj7mh5Q",
        "outputId": "34cd6347-262e-4203-9aee-066740c911b2"
      },
      "execution_count": 15,
      "outputs": [
        {
          "output_type": "stream",
          "name": "stdout",
          "text": [
            "\"I did nothing!\"he said. \"Or that other thing.\"\n"
          ]
        }
      ]
    },
    {
      "cell_type": "code",
      "source": [
        "fact = \"The world's largest rubber duck was 54'2\\\" by 65'7\\\" by 105'\"\n",
        "print(fact)"
      ],
      "metadata": {
        "colab": {
          "base_uri": "https://localhost:8080/"
        },
        "id": "WpPwi9RLm_lF",
        "outputId": "52751718-99d9-4643-949a-83ae4636b619"
      },
      "execution_count": 17,
      "outputs": [
        {
          "output_type": "stream",
          "name": "stdout",
          "text": [
            "The world's largest rubber duck was 54'2\" by 65'7\" by 105'\n"
          ]
        }
      ]
    },
    {
      "cell_type": "code",
      "source": [
        "speech = 'The backslash (\\\\) bends over backwards to please you.'\n",
        "print(speech)"
      ],
      "metadata": {
        "colab": {
          "base_uri": "https://localhost:8080/"
        },
        "id": "tI3yKF24naaG",
        "outputId": "d1e7c827-c7e8-45ce-a71c-3b7a813bee20"
      },
      "execution_count": 18,
      "outputs": [
        {
          "output_type": "stream",
          "name": "stdout",
          "text": [
            "The backslash (\\) bends over backwards to please you.\n"
          ]
        }
      ]
    }
  ]
}