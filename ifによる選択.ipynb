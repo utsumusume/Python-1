{
  "nbformat": 4,
  "nbformat_minor": 0,
  "metadata": {
    "colab": {
      "provenance": [],
      "cell_execution_strategy": "setup",
      "authorship_tag": "ABX9TyNC/d1wkVO22GtJoBwNR4JH",
      "include_colab_link": true
    },
    "kernelspec": {
      "name": "python3",
      "display_name": "Python 3"
    },
    "language_info": {
      "name": "python"
    }
  },
  "cells": [
    {
      "cell_type": "markdown",
      "metadata": {
        "id": "view-in-github",
        "colab_type": "text"
      },
      "source": [
        "<a href=\"https://colab.research.google.com/github/utsumusume/Python-1/blob/Python-Learning-1/if%E3%81%AB%E3%82%88%E3%82%8B%E9%81%B8%E6%8A%9E.ipynb\" target=\"_parent\"><img src=\"https://colab.research.google.com/assets/colab-badge.svg\" alt=\"Open In Colab\"/></a>"
      ]
    },
    {
      "cell_type": "code",
      "execution_count": 1,
      "metadata": {
        "id": "2jdZ1trRwP6r",
        "colab": {
          "base_uri": "https://localhost:8080/"
        },
        "outputId": "e0fffabe-c186-493b-9c70-d330d29650c1"
      },
      "outputs": [
        {
          "output_type": "execute_result",
          "data": {
            "text/plain": [
              "10"
            ]
          },
          "metadata": {},
          "execution_count": 1
        }
      ],
      "source": [
        "total = 0\n",
        "total += 1\n",
        "total += 2\n",
        "total += 3\n",
        "total += 4\n",
        "total\n",
        "\n",
        "total = 1 + \\\n",
        "        2 + \\\n",
        "        3 + \\\n",
        "        4\n",
        "total\n",
        "\n",
        "total =  (\n",
        "    1 +\n",
        "    2 +\n",
        "    3 +\n",
        "    4)\n",
        "total"
      ]
    },
    {
      "cell_type": "code",
      "source": [
        "disaster = True\n",
        "if disaster:\n",
        "  print(\"Woe!\")\n",
        "else:\n",
        "  print(\"Whee!\")"
      ],
      "metadata": {
        "colab": {
          "base_uri": "https://localhost:8080/"
        },
        "id": "CAkyzk2nF2ky",
        "outputId": "d70a8466-ecfa-43bd-cd35-6552c69e8e16"
      },
      "execution_count": null,
      "outputs": [
        {
          "output_type": "stream",
          "name": "stdout",
          "text": [
            "Woe!\n"
          ]
        }
      ]
    },
    {
      "cell_type": "code",
      "source": [
        "furry = True\n",
        "large = True\n",
        "if furry:\n",
        "  if large:\n",
        "    print(\"It's a yeti.\")\n",
        "  else:\n",
        "    print(\"It's a cat!\")\n",
        "else:\n",
        "  if large:\n",
        "    print(\"It's a whale!\")\n",
        "  else:\n",
        "    print(\"It's a human. r a hairless cat.\")"
      ],
      "metadata": {
        "colab": {
          "base_uri": "https://localhost:8080/"
        },
        "id": "_fZChOlSGrW4",
        "outputId": "47b33004-2579-4012-ea5c-2f09ee4261de"
      },
      "execution_count": null,
      "outputs": [
        {
          "output_type": "stream",
          "name": "stdout",
          "text": [
            "It's a yeti.\n"
          ]
        }
      ]
    },
    {
      "cell_type": "code",
      "source": [
        "color = \"mauve\"\n",
        "if color == \"red\":\n",
        "  print(\"It'S a tomato\")\n",
        "elif color == \"green\":\n",
        "  print(\"It's a green pepper\")\n",
        "elif color == \"bee purple\":\n",
        "  print(\"I don't know what it is, but only bees can see it\")\n",
        "else:\n",
        "  print(\"I've never heard of the color\", color)"
      ],
      "metadata": {
        "colab": {
          "base_uri": "https://localhost:8080/"
        },
        "id": "KzzYFT7PvO6x",
        "outputId": "f26b60e2-a1f7-49bd-d7ef-55eee6dfefd4"
      },
      "execution_count": null,
      "outputs": [
        {
          "output_type": "stream",
          "name": "stdout",
          "text": [
            "I've never heard of the color mauve\n"
          ]
        }
      ]
    },
    {
      "cell_type": "code",
      "source": [
        "x = 7\n",
        "\n",
        "x == 5\n",
        "\n",
        "x == 7\n",
        "\n",
        "5 < x\n",
        "\n",
        "x < 10\n",
        "\n",
        "(5 < x)and (x < 10)\n",
        "\n",
        "5 < x or x < 10\n",
        "\n",
        "5 < x and not x > 10\n",
        "\n",
        "5 < x < 10\n",
        "\n",
        "5 < x < 10 < 999"
      ],
      "metadata": {
        "colab": {
          "base_uri": "https://localhost:8080/"
        },
        "id": "owKlNXZcvOwp",
        "outputId": "ef647d07-7a98-4f53-e69e-67926025d59e"
      },
      "execution_count": null,
      "outputs": [
        {
          "output_type": "execute_result",
          "data": {
            "text/plain": [
              "True"
            ]
          },
          "metadata": {},
          "execution_count": 5
        }
      ]
    },
    {
      "cell_type": "code",
      "source": [
        "some_list = []\n",
        "if some_list:\n",
        "  print(\"There's nothing in here\")\n",
        "else:\n",
        "  print(\"Hey, it's empty!\")"
      ],
      "metadata": {
        "colab": {
          "base_uri": "https://localhost:8080/"
        },
        "id": "NCxgap9IvRLS",
        "outputId": "b6e372df-daac-411b-ecca-402259d35031"
      },
      "execution_count": null,
      "outputs": [
        {
          "output_type": "stream",
          "name": "stdout",
          "text": [
            "Hey, it's empty!\n"
          ]
        }
      ]
    },
    {
      "cell_type": "code",
      "source": [
        "if color == \"red\":\n",
        "elif color == \"green\"\n"
      ],
      "metadata": {
        "id": "qnJUz0Obvl1X"
      },
      "execution_count": null,
      "outputs": []
    },
    {
      "cell_type": "code",
      "source": [
        "letter = 'o'\n",
        "if letter == 'a' or letter == 'e' or letter == 'i' \\\n",
        "    or letter == 'o' or letter == 'u':\n",
        "    print(letter, 'is a vowel')\n",
        "else:\n",
        "    print(letter, 'is not a vowel')"
      ],
      "metadata": {
        "colab": {
          "base_uri": "https://localhost:8080/"
        },
        "id": "zrTCJRNkoma6",
        "outputId": "ca6c26f7-92e8-4527-8ca3-bce17d6be702"
      },
      "execution_count": null,
      "outputs": [
        {
          "output_type": "stream",
          "name": "stdout",
          "text": [
            "o is a vowel\n"
          ]
        }
      ]
    },
    {
      "cell_type": "code",
      "source": [
        "vowels = \"aeiou\"\n",
        "letter = \"o\"\n",
        "letter in vowels\n",
        "\n",
        "if letter in vowels:\n",
        "  print(letter, \"is a vowel\")"
      ],
      "metadata": {
        "colab": {
          "base_uri": "https://localhost:8080/"
        },
        "id": "MNXPOFZgpSNi",
        "outputId": "7a653af6-af90-43f6-9fa3-e098f3e6e80b"
      },
      "execution_count": null,
      "outputs": [
        {
          "output_type": "stream",
          "name": "stdout",
          "text": [
            "o is a vowel\n"
          ]
        }
      ]
    },
    {
      "cell_type": "code",
      "source": [
        "letter = 'o'\n",
        "vowel_set = {'a', 'e', 'i', 'o', 'u'}\n",
        "letter in vowel_set\n",
        "\n",
        "vowel_list = ['a', 'e', 'i', 'o', 'u']\n",
        "letter in vowel_list\n",
        "\n",
        "vowel_tuple = ('a', 'e', 'i', 'o', 'u')\n",
        "letter in vowel_tuple\n",
        "\n",
        "vowel_dict = {'a': 'apple', 'e': 'elephant', 'i': 'impala', 'o': 'ocelot', 'u': 'unicorn'}\n",
        "letter in vowel_dict\n",
        "\n",
        "vowel_string = \"aeiou\"\n",
        "letter in vowel_string"
      ],
      "metadata": {
        "colab": {
          "base_uri": "https://localhost:8080/"
        },
        "id": "N0Pfztd3CRV9",
        "outputId": "c5e17de0-a5c0-40cd-d9b7-7e14640ce63d"
      },
      "execution_count": null,
      "outputs": [
        {
          "output_type": "execute_result",
          "data": {
            "text/plain": [
              "True"
            ]
          },
          "metadata": {},
          "execution_count": 9
        }
      ]
    },
    {
      "cell_type": "code",
      "source": [
        "tweet_limit = 280\n",
        "tweet_string = \"Blah\" * 50\n",
        "diff = tweet_limit - len(tweet_string)\n",
        "if diff >= 0:\n",
        "  print(\"A fitting tweet\")\n",
        "else:\n",
        "  print(\"Went over by\", abs(diff))"
      ],
      "metadata": {
        "colab": {
          "base_uri": "https://localhost:8080/"
        },
        "id": "YNVQ3jpdbAMS",
        "outputId": "0603b15d-4200-4ead-8c91-30c3318e17ef"
      },
      "execution_count": null,
      "outputs": [
        {
          "output_type": "stream",
          "name": "stdout",
          "text": [
            "A fitting tweet\n"
          ]
        }
      ]
    },
    {
      "cell_type": "code",
      "source": [
        "tweet_limit = 280\n",
        "tweet_string = \"Blah\" * 50\n",
        "if (diff := tweet_limit - len(tweet_string)) >=0:\n",
        "  print(\"A fitting tweet\")\n",
        "else:\n",
        "  print(\"Went over by\", abs(diff))"
      ],
      "metadata": {
        "id": "jcSgCOZRbmF0",
        "colab": {
          "base_uri": "https://localhost:8080/"
        },
        "outputId": "74308db0-d5a7-4af3-87ff-6b5bf0ca6de3"
      },
      "execution_count": null,
      "outputs": [
        {
          "output_type": "stream",
          "name": "stdout",
          "text": [
            "A fitting tweet\n"
          ]
        }
      ]
    },
    {
      "cell_type": "code",
      "source": [
        "secret = 8\n",
        "guess = 1\n",
        "\n",
        "if guess < secret:\n",
        "  print(\"too low\")\n",
        "elif guess > secret:\n",
        "  print(\"too high\")\n",
        "else:\n",
        "  print(\"just right\")"
      ],
      "metadata": {
        "colab": {
          "base_uri": "https://localhost:8080/"
        },
        "id": "3E4vPSL6KqPA",
        "outputId": "4c221447-793f-4f80-8339-395fe2a0e530"
      },
      "execution_count": null,
      "outputs": [
        {
          "output_type": "stream",
          "name": "stdout",
          "text": [
            "too low\n"
          ]
        }
      ]
    },
    {
      "cell_type": "code",
      "source": [
        "small = False\n",
        "green = True\n",
        "if small:\n",
        "  if green:\n",
        "    print('pea')\n",
        "  else:\n",
        "    print('cherry')\n",
        "else:\n",
        "  if green:\n",
        "    print(\"watermelon\")\n",
        "  else:\n",
        "    print(\"pumpkin\")"
      ],
      "metadata": {
        "colab": {
          "base_uri": "https://localhost:8080/"
        },
        "id": "RpQUlWg80z33",
        "outputId": "d034b864-13d7-49d2-eb5a-45252531c1f4"
      },
      "execution_count": 2,
      "outputs": [
        {
          "output_type": "stream",
          "name": "stdout",
          "text": [
            "watermelon\n"
          ]
        }
      ]
    }
  ]
}